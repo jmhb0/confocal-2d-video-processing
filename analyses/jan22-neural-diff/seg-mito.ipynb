{
 "cells": [
  {
   "cell_type": "code",
   "execution_count": null,
   "id": "0b96ba5c-5fdd-4705-8bcc-2e12662015d9",
   "metadata": {},
   "outputs": [],
   "source": [
    "import yaml\n",
    "from pathlib import Path\n",
    "import pandas as pd\n",
    "import numpy as np\n",
    "from aicsimageio import AICSImage\n",
    "import sys\n",
    "sys.path.append(\"../../\")\n",
    "import segmentation_core as sc\n",
    "import seg_eval as se\n",
    "import seg_processing as sp\n",
    "import pipeline_utils as pu\n",
    "import utils\n",
    "import importlib\n",
    "\n",
    "import matplotlib.pyplot as plt\n",
    "import matplotlib.animation as animation\n",
    "\n",
    "# project path \n",
    "c = yaml.safe_load(open(\"../../config.yaml\", \"r\"))\n",
    "PATH_PROJECT = Path(c['path_project'])\n",
    "# data path\n",
    "c = yaml.safe_load(open(\"./config.yaml\", \"r\"))\n",
    "PATH_DATA = Path(c['path_data'])\n",
    "PATH_FNAMES = PATH_DATA / \"fname-lookup-timelapse.csv\"\n",
    "PATH_SEG_FUNCS = PATH_PROJECT / \"seg-func-map.yaml\"\n",
    "PATH_EVALS = Path(\"./eval-pdfs\")\n",
    "\n",
    "## choose the images to segment \n",
    "# idxs = ['WT-1-1','WT-2-4','D0-1-6','D0-3-2','D14-1-4','D14-2-9']\n",
    "# idxs for WT and D0\n",
    "# idxs = ['WT-2-5','WT-3-2','D0-1-6','D0-1-3','D0-2-6','D0-3-5']\n",
    "# idxs = ['D7-2-1','D7-2-2','D7-3-7', 'D7-3-20']\n",
    "# idxs = ['D14-1-9','D14-2-7','D14-3-10']\n",
    "# idxs = ['D21-2-2','D21-3-6','D21-3-12']\n",
    "idxs = [\"AP24-ARNA-1\",\"AP24-ARNA-11\",\"AP24-CTRLAC-8\"]\n",
    "# idxs = [\"AP48-ARNA-11\",\"AP48-RNAOAC-6\",\"AP48-CTRL-5\",\"AP48-CTRLOAC-8\"]\n",
    "channel=\"mito\"\n",
    "frame=50\n"
   ]
  },
  {
   "cell_type": "code",
   "execution_count": null,
   "id": "4b128441-b31e-49df-af3a-44834e2bcca9",
   "metadata": {},
   "outputs": [],
   "source": [
    "df_fnames[df_fnames['g1']==\"AP48\"]\n",
    "df_fnames.loc[\"WT-1-1\"][\"path_file\"]"
   ]
  },
  {
   "cell_type": "code",
   "execution_count": null,
   "id": "d11099bc-d38c-48b6-8410-8c00993ddd04",
   "metadata": {},
   "outputs": [],
   "source": []
  },
  {
   "cell_type": "code",
   "execution_count": null,
   "id": "7d983f48-6bd5-4972-9d0a-386ebdd71f16",
   "metadata": {},
   "outputs": [],
   "source": []
  },
  {
   "cell_type": "markdown",
   "id": "8c5e0373-841d-4c55-98b3-36fb3372b2d1",
   "metadata": {},
   "source": [
    "#### load img data"
   ]
  },
  {
   "cell_type": "code",
   "execution_count": null,
   "id": "13b8008a-3796-4fbe-ac59-54a9011538b1",
   "metadata": {},
   "outputs": [],
   "source": [
    "# read in files and print their fnames \n",
    "df_fnames = pd.read_csv(PATH_FNAMES).set_index('index')\n",
    "df_fnames['path_file'] = str(PATH_DATA) +\"/\"+ df_fnames['folder']+\"/\"+df_fnames['fname']\n",
    "fnames = list(df_fnames.loc[idxs]['path_file'])\n",
    "for i in range(len(fnames)):\n",
    "    print(f\"{idxs[i]}: {fnames[i]}\")\n"
   ]
  },
  {
   "cell_type": "code",
   "execution_count": null,
   "id": "2c511a42-c52d-4823-8308-9fee35025585",
   "metadata": {},
   "outputs": [],
   "source": [
    "\n"
   ]
  },
  {
   "cell_type": "code",
   "execution_count": null,
   "id": "a9e4196d-fff3-4195-8603-0319f051b883",
   "metadata": {},
   "outputs": [],
   "source": [
    "x.shape"
   ]
  },
  {
   "cell_type": "code",
   "execution_count": null,
   "id": "297c2ffe-a2e8-4221-9884-30da4048658c",
   "metadata": {},
   "outputs": [],
   "source": []
  },
  {
   "cell_type": "code",
   "execution_count": null,
   "id": "d6f267f5-a9bc-45d0-8ad0-d5b85aba1b52",
   "metadata": {},
   "outputs": [],
   "source": [
    "# x = img_obj.shape"
   ]
  },
  {
   "cell_type": "code",
   "execution_count": null,
   "id": "2dce7ba9-3663-4517-b1da-6dc050b11398",
   "metadata": {},
   "outputs": [],
   "source": []
  },
  {
   "cell_type": "code",
   "execution_count": null,
   "id": "eca75d8d-53c4-4af9-8ca8-eedd053ac74b",
   "metadata": {},
   "outputs": [],
   "source": [
    "imgs = [] \n",
    "frame=0\n",
    "zslice_mult=0.5\n",
    "for fname in fnames: \n",
    "    img_obj = AICSImage(fname)\n",
    "    zdim = img_obj.shape[2]\n",
    "    zslice = int(zdim*zslice_mult)\n",
    "    print(f\"Shape {img_obj.shape}, getting frame {frame}, ch_idx {ch_idx}, zslice {zslice}\")\n",
    "    x = img_obj.data\n",
    "    img=x[frame, :,[zslice]].copy()\n",
    "    del x\n",
    "    imgs.append(img)"
   ]
  },
  {
   "cell_type": "code",
   "execution_count": null,
   "id": "2d7c4f40-1ad2-4db7-bc64-8cf621aaf609",
   "metadata": {},
   "outputs": [],
   "source": [
    "for img in imgs:\n",
    "    plt.figure(figsize=(15,15))\n",
    "    plt.imshow(img[0,2], cmap='gray')"
   ]
  },
  {
   "cell_type": "code",
   "execution_count": null,
   "id": "2d07657e-aa8a-46aa-ae0e-6cff118919c1",
   "metadata": {},
   "outputs": [],
   "source": [
    "imgs[0].shape"
   ]
  },
  {
   "cell_type": "markdown",
   "id": "6946980d-344f-4660-8571-cbb74004479b",
   "metadata": {},
   "source": [
    "#### segmentation info"
   ]
  },
  {
   "cell_type": "code",
   "execution_count": null,
   "id": "f0ddc9a1-3124-4730-b6c0-89a2d7a1f347",
   "metadata": {},
   "outputs": [],
   "source": [
    "# load seg info \n",
    "## load segmentation functions\n",
    "seg_funcs = sc.load_segmentation_functions(fname=PATH_SEG_FUNCS)\n",
    "\n",
    "## segmentation config file \n",
    "config_fname =  \"./configs/example-config.yaml\"\n",
    "seg_config = sc.load_segmentation_config_from_file(fname=config_fname, seg_funcs=seg_funcs, verbose=0)\n"
   ]
  },
  {
   "cell_type": "code",
   "execution_count": null,
   "id": "c54943a5-63a5-4ab8-a3cb-e9f6c9c779ea",
   "metadata": {},
   "outputs": [],
   "source": [
    "import yaml\n",
    "dct = yaml.safe_load(\"\"\"\n",
    "mito:\n",
    "    seg: \n",
    "        pipeline: \n",
    "            AC: \n",
    "                scaling_param: [0,19]\n",
    "            #G2:\n",
    "            #    sigma: 0.7\n",
    "            ES:\n",
    "                niter: 3\n",
    "                kappa: 1.2\n",
    "            or_branch:\n",
    "                branch1:\n",
    "                    S2:\n",
    "                        s2_param: [[2,0.15], [3.3,0.15]]  \n",
    "                branch2:\n",
    "                    F2:\n",
    "                        f2_param: [[1.15,0.55]] \n",
    "                        #f2_param: [[1.0,0.50],[3.3,0.35]] \n",
    "\n",
    "            S:\n",
    "                min_size: 20\n",
    "        ops: \n",
    "            inplace: False\n",
    "\"\"\")\n",
    "seg_config[channel] = dct[channel]\n"
   ]
  },
  {
   "cell_type": "code",
   "execution_count": null,
   "id": "1f22b535-0330-4201-abfd-842db2279716",
   "metadata": {},
   "outputs": [],
   "source": []
  },
  {
   "cell_type": "code",
   "execution_count": null,
   "id": "43736d87-5d90-4ba5-9926-106454141342",
   "metadata": {
    "tags": []
   },
   "outputs": [],
   "source": [
    "importlib.reload(sp)\n",
    "importlib.reload(sc)\n",
    "frame=0\n",
    "all_figs=[]\n",
    "for i, fname in enumerate(fnames):\n",
    "    ### record info about this file \n",
    "    idx=idxs[i]\n",
    "    msg = \"*\"*80 + f\"\\nIdx: {idx}    channel: {channel}    frame: {frame}\\n\" + \"*\"*80\n",
    "    print(msg)\n",
    "    print(fnames[i])\n",
    "    \n",
    "    ### get the whole-cell mask \n",
    "    img_tmp = imgs[i].copy()\n",
    "    f, (img_sum, img_sum_blurred, mask, mask_cell) = sp.whole_cell_segment_eval(fname, img_tmp, title=idx, merge_channels=['lyso','mito','golgi','peroxy','er',])\n",
    "    print(\"Central cell mask\")\n",
    "    display(f)\n",
    "    \n",
    "    ## indexn only this channel take the \n",
    "    ch_idx_lookup = pu.get_channel_idx_lookup(img_obj.channel_names)\n",
    "    ch_idx = ch_idx_lookup[channel]\n",
    "    img_in = imgs[i][:,ch_idx]\n",
    "    img = img_in.copy()\n",
    "\n",
    "    ### do the segmentation\n",
    "    f = plt.figure(figsize=(10,1)); plt.axis('off')\n",
    "    plt.text(0.5,0.5,msg,ha='center',va='center', fontsize='xx-large', fontstretch='expanded')\n",
    "    all_figs.append(f)\n",
    "    plt.close()\n",
    "    \n",
    "    \n",
    "    show_whole_seg, show_sliding_window_masks, show_sliding_window = True, False, True\n",
    "    ## Warning - this is only for display. \n",
    "    ## The actual AC norm used in segmentation is the one listed in the YAML config file\n",
    "    ac_norm_params=[[0,15]]   \n",
    "    gs_smooth_params = [1,2]\n",
    "    es_smooth_params = [\n",
    "        dict(niter=5,kappa=1.2,gamma=0.1),\n",
    "    #     dict(niter=40,kappa=1.2,gamma=0.1)\n",
    "                       ]\n",
    "    # do the segmentation \n",
    "    seg, imgs_inter = sc.seg_2d(img[0], seg_config, seg_funcs, ch_name=channel, inplace=False, save_inters=True, mask=mask_cell[0])\n",
    "\n",
    "    # show whole image\n",
    "    if show_whole_seg:\n",
    "        f, axs = plt.subplots(1,2,figsize=(20,20))\n",
    "        axs[0].imshow(img[0], cmap='gray')\n",
    "        axs[1].imshow(seg[0], cmap='gray')\n",
    "        plt.close()\n",
    "        display(f)\n",
    "        all_figs.append(f)\n",
    "\n",
    "    # sliding window params\n",
    "    window_sz, stride = 200, 200\n",
    "    min_pixels, figsize_mult, max_display_cols, do_plot_dividing_lines = 10, 7, 4, 5\n",
    "    f, show_mask, noshow_mask = pu.compare_seg_windows(img, seg, imgs_inter=imgs_inter,\n",
    "                                            max_display_cols=max_display_cols, figsize_mult=figsize_mult,do_plot_dividing_lines=do_plot_dividing_lines,\n",
    "                                            ac_norm_params=ac_norm_params,gs_smooth_params=gs_smooth_params, \n",
    "                                                      es_smooth_params=es_smooth_params)\n",
    "    plt.close()\n",
    "    display(f)\n",
    "    all_figs.append(f)\n",
    "    assert np.array_equal(img, img_in), \"Warning: the image got modified inplace somewhere\"\n",
    "\n",
    "    if show_sliding_window_masks:\n",
    "        f_tmp, axs = plt.subplots(1,2, figsize=(20,20))\n",
    "        axs[0].imshow(noshow_mask, cmap='gray');    axs[0].set(title=\"Ignored windows\")\n",
    "        axs[1].imshow(show_mask, cmap='gray')  ;    axs[1].set(title=\"Included widnows\")\n",
    "        plt.show()\n",
    "\n"
   ]
  },
  {
   "cell_type": "code",
   "execution_count": null,
   "id": "65cccc86-2998-4f86-8759-bcc8ff2de9c4",
   "metadata": {
    "tags": []
   },
   "outputs": [],
   "source": []
  },
  {
   "cell_type": "code",
   "execution_count": null,
   "id": "7d7ea7bc-7a75-44d1-b63a-1a37a2ebb303",
   "metadata": {},
   "outputs": [],
   "source": []
  },
  {
   "cell_type": "code",
   "execution_count": null,
   "id": "c7d761b8-d5f0-4df6-897d-23bd2afc2685",
   "metadata": {},
   "outputs": [],
   "source": [
    "from matplotlib.backends.backend_pdf import PdfPages\n",
    "fname_eval = PATH_EVALS / f\"{channel}-4samples.pdf\"\n",
    "with PdfPages(fname_eval) as pdf:\n",
    "    for f in all_figs:\n",
    "        pdf.savefig(f)\n",
    "    "
   ]
  },
  {
   "cell_type": "code",
   "execution_count": null,
   "id": "8825a393-70b7-46ae-8d96-8f782c9d02d4",
   "metadata": {},
   "outputs": [],
   "source": []
  },
  {
   "cell_type": "code",
   "execution_count": null,
   "id": "b3439cd3-d6b4-4500-b95d-ca5b43da6ec6",
   "metadata": {},
   "outputs": [],
   "source": []
  },
  {
   "cell_type": "code",
   "execution_count": null,
   "id": "e1e46da1-cec7-4ee5-860c-3539acfadab7",
   "metadata": {},
   "outputs": [],
   "source": []
  },
  {
   "cell_type": "code",
   "execution_count": null,
   "id": "fa31c6e5-6868-4852-9265-2b1911ece0ae",
   "metadata": {},
   "outputs": [],
   "source": []
  },
  {
   "cell_type": "code",
   "execution_count": null,
   "id": "0594dab8-3baa-4dab-9919-518a25737f2a",
   "metadata": {},
   "outputs": [],
   "source": []
  }
 ],
 "metadata": {
  "kernelspec": {
   "display_name": "Python 3 (ipykernel)",
   "language": "python",
   "name": "python3"
  },
  "language_info": {
   "codemirror_mode": {
    "name": "ipython",
    "version": 3
   },
   "file_extension": ".py",
   "mimetype": "text/x-python",
   "name": "python",
   "nbconvert_exporter": "python",
   "pygments_lexer": "ipython3",
   "version": "3.9.5"
  }
 },
 "nbformat": 4,
 "nbformat_minor": 5
}
